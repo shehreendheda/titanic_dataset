{
 "cells": [
  {
   "cell_type": "code",
   "execution_count": 1,
   "metadata": {
    "collapsed": true
   },
   "outputs": [],
   "source": [
    "import numpy as np\n",
    "import psycopg2\n",
    "import pandas as pd\n",
    "import scipy as sp\n",
    "import seaborn as sns\n",
    "\n",
    "import matplotlib.pyplot as plt\n",
    "from sklearn.preprocessing import LabelEncoder, OneHotEncoder, StandardScaler\n",
    "from IPython.display import display\n",
    "import warnings\n",
    "warnings.filterwarnings('ignore')\n",
    "\n",
    "%matplotlib inline\n",
    "pd.options.display.precision = 4\n",
    "import matplotlib as mpl\n",
    "mpl.rcParams['font.family'] = 'Lato'"
   ]
  },
  {
   "cell_type": "markdown",
   "metadata": {},
   "source": [
    "## 1. Verify Database Connection By Displaying First 5 Rows with Column Heads"
   ]
  },
  {
   "cell_type": "code",
   "execution_count": 2,
   "metadata": {},
   "outputs": [
    {
     "name": "stdout",
     "output_type": "stream",
     "text": [
      "[(1, 1, 'Allen, Miss. Elisabeth Walton', 'female', 29.0, 0, 0, '24160', 211.3375, 'B5', 'S', '2', None, 'St Louis, MO'), (1, 1, 'Allison, Master. Hudson Trevor', 'male', 0.9167, 1, 2, '113781', 151.55, 'C22 C26', 'S', '11', None, 'Montreal, PQ / Chesterville, ON'), (1, 0, 'Allison, Miss. Helen Loraine', 'female', 2.0, 1, 2, '113781', 151.55, 'C22 C26', 'S', None, None, 'Montreal, PQ / Chesterville, ON'), (1, 0, 'Allison, Mr. Hudson Joshua Creighton', 'male', 30.0, 1, 2, '113781', 151.55, 'C22 C26', 'S', None, 135, 'Montreal, PQ / Chesterville, ON'), (1, 0, 'Allison, Mrs. Hudson J C (Bessie Waldo Daniels)', 'female', 25.0, 1, 2, '113781', 151.55, 'C22 C26', 'S', None, None, 'Montreal, PQ / Chesterville, ON')]\n"
     ]
    }
   ],
   "source": [
    "conn = psycopg2.connect(host=your_host, user=your_user, password=your_password)\n",
    "curs = conn.cursor()\n",
    "curs.execute(\"SELECT * FROM titanic LIMIT 5;\")\n",
    "print(curs.fetchall())\n",
    "conn.close()"
   ]
  },
  {
   "cell_type": "markdown",
   "metadata": {},
   "source": [
    "### Get the column names and data types for the `titanic` table"
   ]
  },
  {
   "cell_type": "code",
   "execution_count": 3,
   "metadata": {},
   "outputs": [
    {
     "name": "stdout",
     "output_type": "stream",
     "text": [
      "[('pclass', 'integer'), ('survived', 'integer'), ('name', 'text'), ('sex', 'text'), ('age', 'double precision'), ('sibsp', 'integer'), ('parch', 'integer'), ('ticket', 'text'), ('fare', 'double precision'), ('cabin', 'text'), ('embarked', 'text'), ('boat', 'text'), ('body', 'integer'), ('home_dest', 'text')]\n"
     ]
    }
   ],
   "source": [
    "conn = psycopg2.connect(host=your_host, user=your_user, password=your_password)\n",
    "curs = conn.cursor()\n",
    "curs.execute(\"\"\"\n",
    "SELECT column_name, data_type\n",
    "FROM information_schema.columns\n",
    "  WHERE table_name   = 'titanic';\n",
    "\"\"\")\n",
    "print(curs.fetchall())\n",
    "conn.close()"
   ]
  },
  {
   "cell_type": "markdown",
   "metadata": {},
   "source": [
    "### Use a sql query to get the columns names as a python list"
   ]
  },
  {
   "cell_type": "code",
   "execution_count": 4,
   "metadata": {
    "collapsed": true
   },
   "outputs": [],
   "source": [
    "conn = psycopg2.connect(host=your_host, user=your_user, password=your_password)\n",
    "curs = conn.cursor()\n",
    "curs.execute(\"\"\"\n",
    "SELECT column_name\n",
    "FROM information_schema.columns\n",
    "  WHERE table_name   = 'titanic';\n",
    "\"\"\")\n",
    "col_name_list = [tup[0] for tup in curs.fetchall()]\n",
    "conn.close()"
   ]
  },
  {
   "cell_type": "markdown",
   "metadata": {},
   "source": [
    "### Use this list to add headers to the table when you pass it to `sql_to_df`"
   ]
  },
  {
   "cell_type": "code",
   "execution_count": 5,
   "metadata": {},
   "outputs": [
    {
     "data": {
      "text/html": [
       "<div>\n",
       "<style>\n",
       "    .dataframe thead tr:only-child th {\n",
       "        text-align: right;\n",
       "    }\n",
       "\n",
       "    .dataframe thead th {\n",
       "        text-align: left;\n",
       "    }\n",
       "\n",
       "    .dataframe tbody tr th {\n",
       "        vertical-align: top;\n",
       "    }\n",
       "</style>\n",
       "<table border=\"1\" class=\"dataframe\">\n",
       "  <thead>\n",
       "    <tr style=\"text-align: right;\">\n",
       "      <th></th>\n",
       "      <th>pclass</th>\n",
       "      <th>survived</th>\n",
       "      <th>name</th>\n",
       "      <th>sex</th>\n",
       "      <th>age</th>\n",
       "      <th>sibsp</th>\n",
       "      <th>parch</th>\n",
       "      <th>ticket</th>\n",
       "      <th>fare</th>\n",
       "      <th>cabin</th>\n",
       "      <th>embarked</th>\n",
       "      <th>boat</th>\n",
       "      <th>body</th>\n",
       "      <th>home_dest</th>\n",
       "    </tr>\n",
       "  </thead>\n",
       "  <tbody>\n",
       "    <tr>\n",
       "      <th>0</th>\n",
       "      <td>1</td>\n",
       "      <td>1</td>\n",
       "      <td>Allen, Miss. Elisabeth Walton</td>\n",
       "      <td>female</td>\n",
       "      <td>29.0000</td>\n",
       "      <td>0</td>\n",
       "      <td>0</td>\n",
       "      <td>24160</td>\n",
       "      <td>211.3375</td>\n",
       "      <td>B5</td>\n",
       "      <td>S</td>\n",
       "      <td>2</td>\n",
       "      <td>NaN</td>\n",
       "      <td>St Louis, MO</td>\n",
       "    </tr>\n",
       "    <tr>\n",
       "      <th>1</th>\n",
       "      <td>1</td>\n",
       "      <td>1</td>\n",
       "      <td>Allison, Master. Hudson Trevor</td>\n",
       "      <td>male</td>\n",
       "      <td>0.9167</td>\n",
       "      <td>1</td>\n",
       "      <td>2</td>\n",
       "      <td>113781</td>\n",
       "      <td>151.5500</td>\n",
       "      <td>C22 C26</td>\n",
       "      <td>S</td>\n",
       "      <td>11</td>\n",
       "      <td>NaN</td>\n",
       "      <td>Montreal, PQ / Chesterville, ON</td>\n",
       "    </tr>\n",
       "    <tr>\n",
       "      <th>2</th>\n",
       "      <td>1</td>\n",
       "      <td>0</td>\n",
       "      <td>Allison, Miss. Helen Loraine</td>\n",
       "      <td>female</td>\n",
       "      <td>2.0000</td>\n",
       "      <td>1</td>\n",
       "      <td>2</td>\n",
       "      <td>113781</td>\n",
       "      <td>151.5500</td>\n",
       "      <td>C22 C26</td>\n",
       "      <td>S</td>\n",
       "      <td>None</td>\n",
       "      <td>NaN</td>\n",
       "      <td>Montreal, PQ / Chesterville, ON</td>\n",
       "    </tr>\n",
       "    <tr>\n",
       "      <th>3</th>\n",
       "      <td>1</td>\n",
       "      <td>0</td>\n",
       "      <td>Allison, Mr. Hudson Joshua Creighton</td>\n",
       "      <td>male</td>\n",
       "      <td>30.0000</td>\n",
       "      <td>1</td>\n",
       "      <td>2</td>\n",
       "      <td>113781</td>\n",
       "      <td>151.5500</td>\n",
       "      <td>C22 C26</td>\n",
       "      <td>S</td>\n",
       "      <td>None</td>\n",
       "      <td>135.0</td>\n",
       "      <td>Montreal, PQ / Chesterville, ON</td>\n",
       "    </tr>\n",
       "    <tr>\n",
       "      <th>4</th>\n",
       "      <td>1</td>\n",
       "      <td>0</td>\n",
       "      <td>Allison, Mrs. Hudson J C (Bessie Waldo Daniels)</td>\n",
       "      <td>female</td>\n",
       "      <td>25.0000</td>\n",
       "      <td>1</td>\n",
       "      <td>2</td>\n",
       "      <td>113781</td>\n",
       "      <td>151.5500</td>\n",
       "      <td>C22 C26</td>\n",
       "      <td>S</td>\n",
       "      <td>None</td>\n",
       "      <td>NaN</td>\n",
       "      <td>Montreal, PQ / Chesterville, ON</td>\n",
       "    </tr>\n",
       "  </tbody>\n",
       "</table>\n",
       "</div>"
      ],
      "text/plain": [
       "   pclass  survived                                             name     sex  \\\n",
       "0       1         1                    Allen, Miss. Elisabeth Walton  female   \n",
       "1       1         1                   Allison, Master. Hudson Trevor    male   \n",
       "2       1         0                     Allison, Miss. Helen Loraine  female   \n",
       "3       1         0             Allison, Mr. Hudson Joshua Creighton    male   \n",
       "4       1         0  Allison, Mrs. Hudson J C (Bessie Waldo Daniels)  female   \n",
       "\n",
       "       age  sibsp  parch  ticket      fare    cabin embarked  boat   body  \\\n",
       "0  29.0000      0      0   24160  211.3375       B5        S     2    NaN   \n",
       "1   0.9167      1      2  113781  151.5500  C22 C26        S    11    NaN   \n",
       "2   2.0000      1      2  113781  151.5500  C22 C26        S  None    NaN   \n",
       "3  30.0000      1      2  113781  151.5500  C22 C26        S  None  135.0   \n",
       "4  25.0000      1      2  113781  151.5500  C22 C26        S  None    NaN   \n",
       "\n",
       "                         home_dest  \n",
       "0                     St Louis, MO  \n",
       "1  Montreal, PQ / Chesterville, ON  \n",
       "2  Montreal, PQ / Chesterville, ON  \n",
       "3  Montreal, PQ / Chesterville, ON  \n",
       "4  Montreal, PQ / Chesterville, ON  "
      ]
     },
     "metadata": {},
     "output_type": "display_data"
    }
   ],
   "source": [
    "conn = psycopg2.connect(host=your_host, user=your_user, password=your_password)\n",
    "curs = conn.cursor()\n",
    "curs.execute(\"SELECT * FROM titanic LIMIT 5;\")\n",
    "display(pd.DataFrame(curs.fetchall(),columns = col_name_list))\n",
    "conn.close()"
   ]
  },
  {
   "cell_type": "markdown",
   "metadata": {},
   "source": [
    "## 2. Use SQL queries to get a statistical summary of the `titanic` table"
   ]
  },
  {
   "cell_type": "markdown",
   "metadata": {},
   "source": [
    "### Use `GROUP BY` to count survival \n",
    "\n",
    "Your query should be able to use this column list: `['survived', 'count']`"
   ]
  },
  {
   "cell_type": "code",
   "execution_count": 6,
   "metadata": {},
   "outputs": [
    {
     "data": {
      "text/html": [
       "<div>\n",
       "<style>\n",
       "    .dataframe thead tr:only-child th {\n",
       "        text-align: right;\n",
       "    }\n",
       "\n",
       "    .dataframe thead th {\n",
       "        text-align: left;\n",
       "    }\n",
       "\n",
       "    .dataframe tbody tr th {\n",
       "        vertical-align: top;\n",
       "    }\n",
       "</style>\n",
       "<table border=\"1\" class=\"dataframe\">\n",
       "  <thead>\n",
       "    <tr style=\"text-align: right;\">\n",
       "      <th></th>\n",
       "      <th>survived</th>\n",
       "      <th>count</th>\n",
       "    </tr>\n",
       "  </thead>\n",
       "  <tbody>\n",
       "    <tr>\n",
       "      <th>0</th>\n",
       "      <td>0</td>\n",
       "      <td>809</td>\n",
       "    </tr>\n",
       "    <tr>\n",
       "      <th>1</th>\n",
       "      <td>1</td>\n",
       "      <td>500</td>\n",
       "    </tr>\n",
       "  </tbody>\n",
       "</table>\n",
       "</div>"
      ],
      "text/plain": [
       "   survived  count\n",
       "0         0    809\n",
       "1         1    500"
      ]
     },
     "metadata": {},
     "output_type": "display_data"
    }
   ],
   "source": [
    "conn = psycopg2.connect(host=your_host, user=your_user, password=your_password)\n",
    "curs = conn.cursor()\n",
    "curs.execute(\"\"\"\n",
    "SELECT survived, COUNT(survived) \n",
    "    FROM titanic\n",
    "    GROUP BY survived;\n",
    "\"\"\")\n",
    "survival_cols = ['survived', 'count']\n",
    "display(pd.DataFrame(curs.fetchall(),columns = survival_cols))\n",
    "conn.close()"
   ]
  },
  {
   "cell_type": "markdown",
   "metadata": {},
   "source": [
    "### Calculate the survival rate\n",
    "\n",
    "Your query should be able to use this column list: `['survival rate']`"
   ]
  },
  {
   "cell_type": "code",
   "execution_count": 7,
   "metadata": {},
   "outputs": [
    {
     "data": {
      "text/html": [
       "<div>\n",
       "<style>\n",
       "    .dataframe thead tr:only-child th {\n",
       "        text-align: right;\n",
       "    }\n",
       "\n",
       "    .dataframe thead th {\n",
       "        text-align: left;\n",
       "    }\n",
       "\n",
       "    .dataframe tbody tr th {\n",
       "        vertical-align: top;\n",
       "    }\n",
       "</style>\n",
       "<table border=\"1\" class=\"dataframe\">\n",
       "  <thead>\n",
       "    <tr style=\"text-align: right;\">\n",
       "      <th></th>\n",
       "      <th>survival_rate</th>\n",
       "    </tr>\n",
       "  </thead>\n",
       "  <tbody>\n",
       "    <tr>\n",
       "      <th>0</th>\n",
       "      <td>0.38</td>\n",
       "    </tr>\n",
       "  </tbody>\n",
       "</table>\n",
       "</div>"
      ],
      "text/plain": [
       "  survival_rate\n",
       "0          0.38"
      ]
     },
     "metadata": {},
     "output_type": "display_data"
    }
   ],
   "source": [
    "conn = psycopg2.connect(host=your_host, user=your_user, password=your_password)\n",
    "curs = conn.cursor()\n",
    "curs.execute(\"\"\"\n",
    "SELECT \n",
    "    ROUND(COUNT((survived = '1') OR NULL)/COUNT(survived)::numeric, 2)\n",
    "    FROM titanic;\n",
    "\"\"\")\n",
    "\n",
    "display(pd.DataFrame(curs.fetchall(),columns = ['survival_rate']))\n",
    "conn.close()"
   ]
  },
  {
   "cell_type": "markdown",
   "metadata": {},
   "source": [
    "### Use a Group By to calculate the survival rate by `sex`\n",
    "\n",
    "Your query should be able to use this column list: `['sex', 'survival rate']`"
   ]
  },
  {
   "cell_type": "code",
   "execution_count": 8,
   "metadata": {},
   "outputs": [
    {
     "data": {
      "text/html": [
       "<div>\n",
       "<style>\n",
       "    .dataframe thead tr:only-child th {\n",
       "        text-align: right;\n",
       "    }\n",
       "\n",
       "    .dataframe thead th {\n",
       "        text-align: left;\n",
       "    }\n",
       "\n",
       "    .dataframe tbody tr th {\n",
       "        vertical-align: top;\n",
       "    }\n",
       "</style>\n",
       "<table border=\"1\" class=\"dataframe\">\n",
       "  <thead>\n",
       "    <tr style=\"text-align: right;\">\n",
       "      <th></th>\n",
       "      <th>sex</th>\n",
       "      <th>survival rate</th>\n",
       "    </tr>\n",
       "  </thead>\n",
       "  <tbody>\n",
       "    <tr>\n",
       "      <th>0</th>\n",
       "      <td>female</td>\n",
       "      <td>0.73</td>\n",
       "    </tr>\n",
       "    <tr>\n",
       "      <th>1</th>\n",
       "      <td>male</td>\n",
       "      <td>0.19</td>\n",
       "    </tr>\n",
       "  </tbody>\n",
       "</table>\n",
       "</div>"
      ],
      "text/plain": [
       "      sex survival rate\n",
       "0  female          0.73\n",
       "1    male          0.19"
      ]
     },
     "metadata": {},
     "output_type": "display_data"
    }
   ],
   "source": [
    "conn = psycopg2.connect(host=your_host, user=your_user, password=your_password)\n",
    "curs = conn.cursor()\n",
    "curs.execute(\"\"\"\n",
    "SELECT sex, ROUND(COUNT((survived = '1') OR NULL)/COUNT(survived)::numeric, 2)\n",
    "    FROM titanic\n",
    "    GROUP BY sex;\n",
    "\"\"\")\n",
    "display(pd.DataFrame(curs.fetchall(),columns = ['sex','survival rate']))\n",
    "conn.close()"
   ]
  },
  {
   "cell_type": "markdown",
   "metadata": {},
   "source": [
    "### Calculate the mean and standard deviation for the following columns grouped by survival\n",
    "\n",
    "Make sure you round to two decimal places:\n",
    "\n",
    "- `pclass`\n",
    "- `age`\n",
    "- `sibsp`\n",
    "- `parch`\n",
    "- `fare`\n",
    "\n",
    "Your query should be able to use this column list: \n",
    "\n",
    "`['survived', 'avg_pclass','std_pclass', 'avg_age','std_age', 'avg_sibsp',\n",
    "  'std_sibsp', 'avg_parch','std_parch', 'avg_fare','std_fare']`"
   ]
  },
  {
   "cell_type": "code",
   "execution_count": 9,
   "metadata": {},
   "outputs": [
    {
     "data": {
      "text/html": [
       "<div>\n",
       "<style>\n",
       "    .dataframe thead tr:only-child th {\n",
       "        text-align: right;\n",
       "    }\n",
       "\n",
       "    .dataframe thead th {\n",
       "        text-align: left;\n",
       "    }\n",
       "\n",
       "    .dataframe tbody tr th {\n",
       "        vertical-align: top;\n",
       "    }\n",
       "</style>\n",
       "<table border=\"1\" class=\"dataframe\">\n",
       "  <thead>\n",
       "    <tr style=\"text-align: right;\">\n",
       "      <th></th>\n",
       "      <th>survived</th>\n",
       "      <th>avg_pclass</th>\n",
       "      <th>std_pclass</th>\n",
       "      <th>avg_age</th>\n",
       "      <th>std_age</th>\n",
       "      <th>avg_sibsp</th>\n",
       "      <th>std_sibsp</th>\n",
       "      <th>avg_parch</th>\n",
       "      <th>std_parch</th>\n",
       "      <th>avg_fare</th>\n",
       "      <th>std_fare</th>\n",
       "    </tr>\n",
       "  </thead>\n",
       "  <tbody>\n",
       "    <tr>\n",
       "      <th>0</th>\n",
       "      <td>0</td>\n",
       "      <td>2.50</td>\n",
       "      <td>0.74</td>\n",
       "      <td>30.55</td>\n",
       "      <td>13.92</td>\n",
       "      <td>0.52</td>\n",
       "      <td>1.21</td>\n",
       "      <td>0.33</td>\n",
       "      <td>0.91</td>\n",
       "      <td>23.35</td>\n",
       "      <td>34.15</td>\n",
       "    </tr>\n",
       "    <tr>\n",
       "      <th>1</th>\n",
       "      <td>1</td>\n",
       "      <td>1.96</td>\n",
       "      <td>0.87</td>\n",
       "      <td>28.92</td>\n",
       "      <td>15.06</td>\n",
       "      <td>0.46</td>\n",
       "      <td>0.69</td>\n",
       "      <td>0.48</td>\n",
       "      <td>0.78</td>\n",
       "      <td>49.36</td>\n",
       "      <td>68.65</td>\n",
       "    </tr>\n",
       "  </tbody>\n",
       "</table>\n",
       "</div>"
      ],
      "text/plain": [
       "   survived avg_pclass std_pclass avg_age std_age avg_sibsp std_sibsp  \\\n",
       "0         0       2.50       0.74   30.55   13.92      0.52      1.21   \n",
       "1         1       1.96       0.87   28.92   15.06      0.46      0.69   \n",
       "\n",
       "  avg_parch std_parch avg_fare std_fare  \n",
       "0      0.33      0.91    23.35    34.15  \n",
       "1      0.48      0.78    49.36    68.65  "
      ]
     },
     "metadata": {},
     "output_type": "display_data"
    }
   ],
   "source": [
    "conn = psycopg2.connect(host=your_host, user=your_user, password=your_password)\n",
    "curs = conn.cursor()\n",
    "curs.execute(\"\"\"\n",
    "SELECT survived, ROUND(AVG(pclass)::numeric, 2),\n",
    "    ROUND(STDDEV(pclass)::numeric, 2),\n",
    "    ROUND(AVG(age)::numeric, 2),\n",
    "    ROUND(STDDEV(age)::numeric, 2),\n",
    "    ROUND(AVG(sibsp)::numeric, 2),\n",
    "    ROUND(STDDEV(sibsp)::numeric, 2),\n",
    "    ROUND(AVG(parch)::numeric, 2),\n",
    "    ROUND(STDDEV(parch)::numeric, 2),\n",
    "    ROUND(AVG(fare)::numeric, 2),\n",
    "    ROUND(STDDEV(fare)::numeric, 2)\n",
    "    FROM titanic\n",
    "    GROUP BY survived;\n",
    "\"\"\")\n",
    "means_stds_cols = ['survived', 'avg_pclass','std_pclass', 'avg_age','std_age', 'avg_sibsp',\n",
    "  'std_sibsp', 'avg_parch','std_parch', 'avg_fare','std_fare']\n",
    "display(pd.DataFrame(curs.fetchall(),columns = means_stds_cols))\n",
    "conn.close()"
   ]
  },
  {
   "cell_type": "markdown",
   "metadata": {},
   "source": [
    "## 3. Hypothesis testing\n",
    "\n",
    "### Prepare a Hypothesis Test with regard to the normality of the distribution of `age` in the `titanic` table\n",
    "1. Write a sql query to get all ages that are not `NULL`. \n",
    "1. State your null and alternate hypothesis.\n",
    "2. Use `scipy.stats.normaltest` to run a t-test using the ages, state your t-statistic and p-value.\n",
    "3. Interpret your p-value. "
   ]
  },
  {
   "cell_type": "code",
   "execution_count": 10,
   "metadata": {
    "collapsed": true
   },
   "outputs": [],
   "source": [
    "conn = psycopg2.connect(host=your_host, user=your_user, password=your_password)\n",
    "curs = conn.cursor()\n",
    "curs.execute(\"\"\"\n",
    "SELECT age \n",
    "    FROM titanic\n",
    "    WHERE age != 'NaN';\n",
    "\"\"\")\n",
    "ages = pd.DataFrame(curs.fetchall())\n",
    "conn.close()"
   ]
  },
  {
   "cell_type": "markdown",
   "metadata": {},
   "source": [
    "$H_0$: the age data has a normal distribution  \n",
    "$H_1$: the age data does not have a normal distribution"
   ]
  },
  {
   "cell_type": "code",
   "execution_count": 11,
   "metadata": {
    "scrolled": true
   },
   "outputs": [
    {
     "name": "stdout",
     "output_type": "stream",
     "text": [
      "t_statistic : 28.168\n",
      "p_value : 7.647e-07\n"
     ]
    }
   ],
   "source": [
    "statistic, p_value = sp.stats.normaltest(ages)\n",
    "print('t_statistic : {}'.format(round(statistic[0],3)))\n",
    "print('p_value : {:.3e}'.format(p_value[0]))"
   ]
  },
  {
   "cell_type": "markdown",
   "metadata": {},
   "source": [
    "Conclusion :  \n",
    "The p_value of 7.6e-07 is less than 0.05. Therefore, we reject the null hypothesis and accept the alternate hypothesis: The age data does not have a normal distribution. "
   ]
  },
  {
   "cell_type": "markdown",
   "metadata": {},
   "source": [
    "### Prepare a `seaborn.distplot` of the ages and plot the mean and median of the ages\n",
    "\n",
    "You can use `plt.axvline` to plot the mean and median."
   ]
  },
  {
   "cell_type": "code",
   "execution_count": 12,
   "metadata": {},
   "outputs": [
    {
     "data": {
      "text/plain": [
       "<matplotlib.legend.Legend at 0x1eff2324fd0>"
      ]
     },
     "execution_count": 12,
     "metadata": {},
     "output_type": "execute_result"
    },
    {
     "data": {
      "image/png": "[encoded data removed]",
      "text/plain": [
       "<matplotlib.figure.Figure at 0x1eff1f286a0>"
      ]
     },
     "metadata": {},
     "output_type": "display_data"
    }
   ],
   "source": [
    "sns.distplot(ages,bins=20, label='ages', color = 'b')\n",
    "plt.axvline(np.mean(ages.values),label='mean',color='r')\n",
    "plt.axvline(np.median(ages.values),label='median',color='g')\n",
    "plt.legend()"
   ]
  },
  {
   "cell_type": "markdown",
   "metadata": {},
   "source": [
    "### Create and interpret a hypothesis test around the average age of male vs female survivors."
   ]
  },
  {
   "cell_type": "markdown",
   "metadata": {},
   "source": [
    "1. Write two sql queries\n",
    "   1. get all male ages that are not `NULL`.\n",
    "   1. get all female ages that are not `NULL`. \n",
    "1. State your null and alternate hypothesis.\n",
    "2. Use `scipy.stats.ttest_ind` to run a t-test using the two vectors, state your t-statistic and p-value.\n",
    "3. Interpret your p-value. "
   ]
  },
  {
   "cell_type": "code",
   "execution_count": 13,
   "metadata": {
    "collapsed": true
   },
   "outputs": [],
   "source": [
    "conn = psycopg2.connect(host=your_host, user=your_user, password=your_password)\n",
    "curs = conn.cursor()\n",
    "curs.execute(\"\"\"\n",
    "SELECT age\n",
    "    FROM titanic\n",
    "    WHERE sex ='male'\n",
    "    AND age != 'NaN';\n",
    "\"\"\")\n",
    "male_ages = pd.DataFrame(curs.fetchall(),columns = ['age of male'])\n",
    "curs.execute(\"\"\"\n",
    "SELECT age\n",
    "    FROM titanic\n",
    "    WHERE sex ='female'\n",
    "    AND age != 'NaN';\n",
    "\"\"\")\n",
    "female_ages = pd.DataFrame(curs.fetchall(),columns = ['age of female'])\n",
    "conn.close()"
   ]
  },
  {
   "cell_type": "markdown",
   "metadata": {},
   "source": [
    "$H_0$: The distributions of ages for men and women aboard the titanic are the same.  \n",
    "$H_1$: The distributions of ages for men and women aboard the titanic are different."
   ]
  },
  {
   "cell_type": "code",
   "execution_count": 14,
   "metadata": {},
   "outputs": [
    {
     "name": "stdout",
     "output_type": "stream",
     "text": [
      "t_statistic : 28.168\n",
      "p_value : 3.959e-02\n"
     ]
    }
   ],
   "source": [
    "t_statistic, p_value = sp.stats.ttest_ind(male_ages,female_ages)\n",
    "print('t_statistic : {}'.format(round(statistic[0],3)))\n",
    "print('p_value : {:.3e}'.format(p_value[0]))"
   ]
  },
  {
   "cell_type": "markdown",
   "metadata": {},
   "source": [
    "Conclusion :  \n",
    "The p_value of 0.040 is less than 0.05. Therefore, we reject the null hypothesis and accept the alternate hypothesis: The distributions of the ages of men and women on the titanic were different. "
   ]
  },
  {
   "cell_type": "markdown",
   "metadata": {},
   "source": [
    "## 4. clean the data from the `titanic` table"
   ]
  },
  {
   "cell_type": "markdown",
   "metadata": {},
   "source": [
    "### Get all of the data from the `titanic` table.\n",
    "\n",
    "1. query all data from the table\n",
    "2. use `sql_to_df` to write the data to a `DataFrame`"
   ]
  },
  {
   "cell_type": "code",
   "execution_count": 15,
   "metadata": {},
   "outputs": [
    {
     "data": {
      "text/html": [
       "<div>\n",
       "<style>\n",
       "    .dataframe thead tr:only-child th {\n",
       "        text-align: right;\n",
       "    }\n",
       "\n",
       "    .dataframe thead th {\n",
       "        text-align: left;\n",
       "    }\n",
       "\n",
       "    .dataframe tbody tr th {\n",
       "        vertical-align: top;\n",
       "    }\n",
       "</style>\n",
       "<table border=\"1\" class=\"dataframe\">\n",
       "  <thead>\n",
       "    <tr style=\"text-align: right;\">\n",
       "      <th></th>\n",
       "      <th>pclass</th>\n",
       "      <th>survived</th>\n",
       "      <th>name</th>\n",
       "      <th>sex</th>\n",
       "      <th>age</th>\n",
       "      <th>sibsp</th>\n",
       "      <th>parch</th>\n",
       "      <th>ticket</th>\n",
       "      <th>fare</th>\n",
       "      <th>cabin</th>\n",
       "      <th>embarked</th>\n",
       "      <th>boat</th>\n",
       "      <th>body</th>\n",
       "      <th>home_dest</th>\n",
       "    </tr>\n",
       "  </thead>\n",
       "  <tbody>\n",
       "    <tr>\n",
       "      <th>0</th>\n",
       "      <td>1</td>\n",
       "      <td>1</td>\n",
       "      <td>Allen, Miss. Elisabeth Walton</td>\n",
       "      <td>female</td>\n",
       "      <td>29.0000</td>\n",
       "      <td>0</td>\n",
       "      <td>0</td>\n",
       "      <td>24160</td>\n",
       "      <td>211.3375</td>\n",
       "      <td>B5</td>\n",
       "      <td>S</td>\n",
       "      <td>2</td>\n",
       "      <td>NaN</td>\n",
       "      <td>St Louis, MO</td>\n",
       "    </tr>\n",
       "    <tr>\n",
       "      <th>1</th>\n",
       "      <td>1</td>\n",
       "      <td>1</td>\n",
       "      <td>Allison, Master. Hudson Trevor</td>\n",
       "      <td>male</td>\n",
       "      <td>0.9167</td>\n",
       "      <td>1</td>\n",
       "      <td>2</td>\n",
       "      <td>113781</td>\n",
       "      <td>151.5500</td>\n",
       "      <td>C22 C26</td>\n",
       "      <td>S</td>\n",
       "      <td>11</td>\n",
       "      <td>NaN</td>\n",
       "      <td>Montreal, PQ / Chesterville, ON</td>\n",
       "    </tr>\n",
       "  </tbody>\n",
       "</table>\n",
       "</div>"
      ],
      "text/plain": [
       "   pclass  survived                            name     sex      age  sibsp  \\\n",
       "0       1         1   Allen, Miss. Elisabeth Walton  female  29.0000      0   \n",
       "1       1         1  Allison, Master. Hudson Trevor    male   0.9167      1   \n",
       "\n",
       "   parch  ticket      fare    cabin embarked boat  body  \\\n",
       "0      0   24160  211.3375       B5        S    2   NaN   \n",
       "1      2  113781  151.5500  C22 C26        S   11   NaN   \n",
       "\n",
       "                         home_dest  \n",
       "0                     St Louis, MO  \n",
       "1  Montreal, PQ / Chesterville, ON  "
      ]
     },
     "execution_count": 15,
     "metadata": {},
     "output_type": "execute_result"
    }
   ],
   "source": [
    "conn = psycopg2.connect(host=your_host, user=your_user, password=your_password)\n",
    "curs = conn.cursor()\n",
    "curs.execute(\"SELECT * FROM titanic;\")\n",
    "titanic_df = pd.DataFrame(curs.fetchall())\n",
    "titanic_df.columns = col_name_list\n",
    "conn.close()\n",
    "titanic_df.head(2)"
   ]
  },
  {
   "cell_type": "markdown",
   "metadata": {},
   "source": [
    "### Display number of null rows per column"
   ]
  },
  {
   "cell_type": "code",
   "execution_count": 16,
   "metadata": {},
   "outputs": [
    {
     "data": {
      "text/plain": [
       "pclass          0\n",
       "survived        0\n",
       "name            0\n",
       "sex             0\n",
       "age           263\n",
       "sibsp           0\n",
       "parch           0\n",
       "ticket          0\n",
       "fare            1\n",
       "cabin        1014\n",
       "embarked        2\n",
       "boat          823\n",
       "body         1188\n",
       "home_dest     564\n",
       "dtype: int64"
      ]
     },
     "execution_count": 16,
     "metadata": {},
     "output_type": "execute_result"
    }
   ],
   "source": [
    "titanic_df.isnull().sum()"
   ]
  },
  {
   "cell_type": "markdown",
   "metadata": {},
   "source": [
    "### fill age NA values with median of age"
   ]
  },
  {
   "cell_type": "code",
   "execution_count": 17,
   "metadata": {
    "collapsed": true
   },
   "outputs": [],
   "source": [
    "titanic_df['age'] = titanic_df['age'].mask(titanic_df['age'].isnull(), np.nanmedian(titanic_df['age']))"
   ]
  },
  {
   "cell_type": "code",
   "execution_count": 18,
   "metadata": {
    "collapsed": true
   },
   "outputs": [],
   "source": [
    "titanic_df['age'] = titanic_df['age'].fillna(np.nanmedian(titanic_df['age']))"
   ]
  },
  {
   "cell_type": "code",
   "execution_count": 19,
   "metadata": {},
   "outputs": [
    {
     "data": {
      "text/plain": [
       "0"
      ]
     },
     "execution_count": 19,
     "metadata": {},
     "output_type": "execute_result"
    }
   ],
   "source": [
    "# Just checking\n",
    "titanic_df['age'].isnull().sum()"
   ]
  },
  {
   "cell_type": "markdown",
   "metadata": {},
   "source": [
    "### impute fare with mean"
   ]
  },
  {
   "cell_type": "code",
   "execution_count": 20,
   "metadata": {
    "collapsed": true
   },
   "outputs": [],
   "source": [
    "titanic_df['fare'] = titanic_df['fare'].mask(titanic_df['fare'].isnull(), np.nanmean(titanic_df['fare']))"
   ]
  },
  {
   "cell_type": "code",
   "execution_count": 21,
   "metadata": {
    "collapsed": true
   },
   "outputs": [],
   "source": [
    "titanic_df['fare'] = titanic_df['fare'].fillna(np.nanmean(titanic_df['fare']))"
   ]
  },
  {
   "cell_type": "code",
   "execution_count": 22,
   "metadata": {},
   "outputs": [
    {
     "data": {
      "text/plain": [
       "0"
      ]
     },
     "execution_count": 22,
     "metadata": {},
     "output_type": "execute_result"
    }
   ],
   "source": [
    "# Just checking\n",
    "titanic_df['fare'].isnull().sum()"
   ]
  },
  {
   "cell_type": "markdown",
   "metadata": {},
   "source": [
    "### Group the `titanic_df` DataFrame by the `embarked` column"
   ]
  },
  {
   "cell_type": "code",
   "execution_count": 23,
   "metadata": {},
   "outputs": [
    {
     "data": {
      "text/plain": [
       "<pandas.core.groupby.DataFrameGroupBy object at 0x000001EFEE2DD0F0>"
      ]
     },
     "execution_count": 23,
     "metadata": {},
     "output_type": "execute_result"
    }
   ],
   "source": [
    "titanic_df.groupby('embarked')"
   ]
  },
  {
   "cell_type": "markdown",
   "metadata": {},
   "source": [
    "### fill embarked with the mode using `np.where`"
   ]
  },
  {
   "cell_type": "code",
   "execution_count": 24,
   "metadata": {
    "collapsed": true
   },
   "outputs": [],
   "source": [
    "titanic_df['embarked'] = titanic_df['embarked'].where(titanic_df['embarked'].notnull() , titanic_df['embarked'].mode()[0])"
   ]
  },
  {
   "cell_type": "code",
   "execution_count": 25,
   "metadata": {},
   "outputs": [
    {
     "data": {
      "text/plain": [
       "0"
      ]
     },
     "execution_count": 25,
     "metadata": {},
     "output_type": "execute_result"
    }
   ],
   "source": [
    "titanic_df['embarked'].isnull().sum()"
   ]
  },
  {
   "cell_type": "markdown",
   "metadata": {},
   "source": [
    "### Display number of null rows per column"
   ]
  },
  {
   "cell_type": "code",
   "execution_count": 26,
   "metadata": {},
   "outputs": [
    {
     "data": {
      "text/plain": [
       "pclass          0\n",
       "survived        0\n",
       "name            0\n",
       "sex             0\n",
       "age             0\n",
       "sibsp           0\n",
       "parch           0\n",
       "ticket          0\n",
       "fare            0\n",
       "cabin        1014\n",
       "embarked        0\n",
       "boat          823\n",
       "body         1188\n",
       "home_dest     564\n",
       "dtype: int64"
      ]
     },
     "execution_count": 26,
     "metadata": {},
     "output_type": "execute_result"
    }
   ],
   "source": [
    "titanic_df.isnull().sum()"
   ]
  },
  {
   "cell_type": "markdown",
   "metadata": {},
   "source": [
    "### Drop all columns that contain null values"
   ]
  },
  {
   "cell_type": "code",
   "execution_count": 27,
   "metadata": {
    "collapsed": true
   },
   "outputs": [],
   "source": [
    "titanic_df = titanic_df.dropna(axis=1)"
   ]
  },
  {
   "cell_type": "markdown",
   "metadata": {},
   "source": [
    "### Verify that there are no remaining null values"
   ]
  },
  {
   "cell_type": "code",
   "execution_count": 28,
   "metadata": {},
   "outputs": [
    {
     "data": {
      "text/plain": [
       "pclass      0\n",
       "survived    0\n",
       "name        0\n",
       "sex         0\n",
       "age         0\n",
       "sibsp       0\n",
       "parch       0\n",
       "ticket      0\n",
       "fare        0\n",
       "embarked    0\n",
       "dtype: int64"
      ]
     },
     "execution_count": 28,
     "metadata": {},
     "output_type": "execute_result"
    }
   ],
   "source": [
    "titanic_df.isnull().sum()"
   ]
  },
  {
   "cell_type": "markdown",
   "metadata": {},
   "source": [
    "### Drop the `ticket` column"
   ]
  },
  {
   "cell_type": "code",
   "execution_count": 29,
   "metadata": {
    "collapsed": true
   },
   "outputs": [],
   "source": [
    "titanic_df = titanic_df.drop('ticket',axis=1)"
   ]
  },
  {
   "cell_type": "markdown",
   "metadata": {},
   "source": [
    "### Make the `name` column the index of the DataFrame"
   ]
  },
  {
   "cell_type": "code",
   "execution_count": 30,
   "metadata": {
    "collapsed": true
   },
   "outputs": [],
   "source": [
    "titanic_df = titanic_df.set_index('name')"
   ]
  },
  {
   "cell_type": "markdown",
   "metadata": {},
   "source": [
    "### Display the cleaned DataFrame"
   ]
  },
  {
   "cell_type": "code",
   "execution_count": 31,
   "metadata": {},
   "outputs": [
    {
     "data": {
      "text/html": [
       "<div>\n",
       "<style>\n",
       "    .dataframe thead tr:only-child th {\n",
       "        text-align: right;\n",
       "    }\n",
       "\n",
       "    .dataframe thead th {\n",
       "        text-align: left;\n",
       "    }\n",
       "\n",
       "    .dataframe tbody tr th {\n",
       "        vertical-align: top;\n",
       "    }\n",
       "</style>\n",
       "<table border=\"1\" class=\"dataframe\">\n",
       "  <thead>\n",
       "    <tr style=\"text-align: right;\">\n",
       "      <th></th>\n",
       "      <th>pclass</th>\n",
       "      <th>survived</th>\n",
       "      <th>sex</th>\n",
       "      <th>age</th>\n",
       "      <th>sibsp</th>\n",
       "      <th>parch</th>\n",
       "      <th>fare</th>\n",
       "      <th>embarked</th>\n",
       "    </tr>\n",
       "    <tr>\n",
       "      <th>name</th>\n",
       "      <th></th>\n",
       "      <th></th>\n",
       "      <th></th>\n",
       "      <th></th>\n",
       "      <th></th>\n",
       "      <th></th>\n",
       "      <th></th>\n",
       "      <th></th>\n",
       "    </tr>\n",
       "  </thead>\n",
       "  <tbody>\n",
       "    <tr>\n",
       "      <th>Allen, Miss. Elisabeth Walton</th>\n",
       "      <td>1</td>\n",
       "      <td>1</td>\n",
       "      <td>female</td>\n",
       "      <td>29.0000</td>\n",
       "      <td>0</td>\n",
       "      <td>0</td>\n",
       "      <td>211.3375</td>\n",
       "      <td>S</td>\n",
       "    </tr>\n",
       "    <tr>\n",
       "      <th>Allison, Master. Hudson Trevor</th>\n",
       "      <td>1</td>\n",
       "      <td>1</td>\n",
       "      <td>male</td>\n",
       "      <td>0.9167</td>\n",
       "      <td>1</td>\n",
       "      <td>2</td>\n",
       "      <td>151.5500</td>\n",
       "      <td>S</td>\n",
       "    </tr>\n",
       "    <tr>\n",
       "      <th>Allison, Miss. Helen Loraine</th>\n",
       "      <td>1</td>\n",
       "      <td>0</td>\n",
       "      <td>female</td>\n",
       "      <td>2.0000</td>\n",
       "      <td>1</td>\n",
       "      <td>2</td>\n",
       "      <td>151.5500</td>\n",
       "      <td>S</td>\n",
       "    </tr>\n",
       "  </tbody>\n",
       "</table>\n",
       "</div>"
      ],
      "text/plain": [
       "                                pclass  survived     sex      age  sibsp  \\\n",
       "name                                                                       \n",
       "Allen, Miss. Elisabeth Walton        1         1  female  29.0000      0   \n",
       "Allison, Master. Hudson Trevor       1         1    male   0.9167      1   \n",
       "Allison, Miss. Helen Loraine         1         0  female   2.0000      1   \n",
       "\n",
       "                                parch      fare embarked  \n",
       "name                                                      \n",
       "Allen, Miss. Elisabeth Walton       0  211.3375        S  \n",
       "Allison, Master. Hudson Trevor      2  151.5500        S  \n",
       "Allison, Miss. Helen Loraine        2  151.5500        S  "
      ]
     },
     "execution_count": 31,
     "metadata": {},
     "output_type": "execute_result"
    }
   ],
   "source": [
    "titanic_df.head(3)"
   ]
  },
  {
   "cell_type": "markdown",
   "metadata": {},
   "source": [
    "## 5. Use if-else statements to predict survival\n"
   ]
  },
  {
   "cell_type": "markdown",
   "metadata": {},
   "source": [
    "## Use Seaborn to look at sex vs age colored by survival"
   ]
  },
  {
   "cell_type": "code",
   "execution_count": 32,
   "metadata": {},
   "outputs": [
    {
     "data": {
      "text/plain": [
       "<matplotlib.axes._subplots.AxesSubplot at 0x1eff3446080>"
      ]
     },
     "execution_count": 32,
     "metadata": {},
     "output_type": "execute_result"
    },
    {
     "data": {
      "image/png": "[encoded data removed]",
      "text/plain": [
       "<matplotlib.figure.Figure at 0x1eff342dcf8>"
      ]
     },
     "metadata": {},
     "output_type": "display_data"
    }
   ],
   "source": [
    "sns.swarmplot(x='sex',y='age',hue='survived',data=titanic_df,split=0)"
   ]
  },
  {
   "cell_type": "markdown",
   "metadata": {},
   "source": [
    "### Assign the `survived` column to `titanic_target`"
   ]
  },
  {
   "cell_type": "code",
   "execution_count": 33,
   "metadata": {
    "collapsed": true
   },
   "outputs": [],
   "source": [
    "titanic_target = titanic_df['survived']"
   ]
  },
  {
   "cell_type": "markdown",
   "metadata": {},
   "source": [
    "### Drop the `survived` column and assign the result to `titanic_feature`"
   ]
  },
  {
   "cell_type": "code",
   "execution_count": 34,
   "metadata": {
    "collapsed": true
   },
   "outputs": [],
   "source": [
    "titanic_feature = titanic_df.drop('survived', axis=1)"
   ]
  },
  {
   "cell_type": "markdown",
   "metadata": {},
   "source": [
    "### What is the mean of the `titanic_target` vector?"
   ]
  },
  {
   "cell_type": "code",
   "execution_count": 35,
   "metadata": {},
   "outputs": [
    {
     "data": {
      "text/plain": [
       "0.3819709702062643"
      ]
     },
     "execution_count": 35,
     "metadata": {},
     "output_type": "execute_result"
    }
   ],
   "source": [
    "titanic_target_mean = titanic_target.mean()\n",
    "titanic_target_mean"
   ]
  },
  {
   "cell_type": "markdown",
   "metadata": {},
   "source": [
    "### What does this value represent?"
   ]
  },
  {
   "cell_type": "markdown",
   "metadata": {},
   "source": [
    "**Ans.** The mean of the survived column represents the rate of survival."
   ]
  },
  {
   "cell_type": "markdown",
   "metadata": {},
   "source": [
    "### Define an Accuracy Function"
   ]
  },
  {
   "cell_type": "markdown",
   "metadata": {},
   "source": [
    "Run this code block to define an accuracy function."
   ]
  },
  {
   "cell_type": "code",
   "execution_count": 36,
   "metadata": {
    "collapsed": true
   },
   "outputs": [],
   "source": [
    "def accuracy_score(actual, predicted):\n",
    "    \n",
    "    \"\"\" \n",
    "    A function that compares a set of actual outcomes to predicted outcomes \n",
    "    and returns a proportion from 0 to 1 \n",
    "    \"\"\"\n",
    "    \n",
    "    return np.array(actual == predicted).mean()"
   ]
  },
  {
   "cell_type": "markdown",
   "metadata": {},
   "source": [
    "### What does this function do?"
   ]
  },
  {
   "cell_type": "markdown",
   "metadata": {},
   "source": [
    "**Ans.** The accuracy function predicts the accuracy of your prediction for a feature by comparing it to the actual outcome of the feature. "
   ]
  },
  {
   "cell_type": "markdown",
   "metadata": {},
   "source": [
    "### Display the first five elements of `titanic_target`"
   ]
  },
  {
   "cell_type": "code",
   "execution_count": 37,
   "metadata": {},
   "outputs": [
    {
     "data": {
      "text/plain": [
       "name\n",
       "Allen, Miss. Elisabeth Walton                      1\n",
       "Allison, Master. Hudson Trevor                     1\n",
       "Allison, Miss. Helen Loraine                       0\n",
       "Allison, Mr. Hudson Joshua Creighton               0\n",
       "Allison, Mrs. Hudson J C (Bessie Waldo Daniels)    0\n",
       "Name: survived, dtype: int64"
      ]
     },
     "execution_count": 37,
     "metadata": {},
     "output_type": "execute_result"
    }
   ],
   "source": [
    "titanic_target.head()"
   ]
  },
  {
   "cell_type": "markdown",
   "metadata": {},
   "source": [
    "### Predict that all of these people survived"
   ]
  },
  {
   "cell_type": "markdown",
   "metadata": {},
   "source": [
    "Run this block of code to generate a vector of 5 ones i.e. the first five people survived."
   ]
  },
  {
   "cell_type": "code",
   "execution_count": 38,
   "metadata": {
    "collapsed": true
   },
   "outputs": [],
   "source": [
    "predictions = np.ones(5)"
   ]
  },
  {
   "cell_type": "markdown",
   "metadata": {},
   "source": [
    "### Run the `accuracy_score` of these `predictions` against the first five elements of `titanic_target`"
   ]
  },
  {
   "cell_type": "markdown",
   "metadata": {},
   "source": [
    "Run this block of code to test the accuracy of the prediction."
   ]
  },
  {
   "cell_type": "code",
   "execution_count": 39,
   "metadata": {
    "scrolled": true
   },
   "outputs": [
    {
     "data": {
      "text/plain": [
       "0.40000000000000002"
      ]
     },
     "execution_count": 39,
     "metadata": {},
     "output_type": "execute_result"
    }
   ],
   "source": [
    "accuracy_score(predictions, titanic_target[:5])"
   ]
  },
  {
   "cell_type": "markdown",
   "metadata": {},
   "source": [
    "### What does this accuracy score tell us?"
   ]
  },
  {
   "cell_type": "markdown",
   "metadata": {},
   "source": [
    "**Ans.** This accuracy score tells us that the prediction is 40% accurate."
   ]
  },
  {
   "cell_type": "markdown",
   "metadata": {},
   "source": [
    "### What is the survival rate of the titanic passengers?"
   ]
  },
  {
   "cell_type": "markdown",
   "metadata": {},
   "source": [
    "**Ans.** The survival rate of the titanic passengers was 0.38."
   ]
  },
  {
   "cell_type": "markdown",
   "metadata": {},
   "source": [
    "### Generate a model - no one survived\n",
    "\n",
    "We can do this by generating a vector of zeros."
   ]
  },
  {
   "cell_type": "code",
   "execution_count": 40,
   "metadata": {
    "collapsed": true
   },
   "outputs": [],
   "source": [
    "n = titanic_feature.shape[0]\n",
    "model_0_no_survivors = np.zeros(n)"
   ]
  },
  {
   "cell_type": "markdown",
   "metadata": {},
   "source": [
    "### Calculate the accuracy of this model"
   ]
  },
  {
   "cell_type": "code",
   "execution_count": 41,
   "metadata": {},
   "outputs": [
    {
     "name": "stdout",
     "output_type": "stream",
     "text": [
      "0.618029029794\n"
     ]
    }
   ],
   "source": [
    "print(accuracy_score(titanic_target, model_0_no_survivors))"
   ]
  },
  {
   "cell_type": "markdown",
   "metadata": {},
   "source": [
    "### Generate a model using masking - women survived"
   ]
  },
  {
   "cell_type": "code",
   "execution_count": 42,
   "metadata": {
    "collapsed": true
   },
   "outputs": [],
   "source": [
    "women = titanic_feature['sex'] == 'female'\n",
    "model_1_women_survive = women"
   ]
  },
  {
   "cell_type": "markdown",
   "metadata": {},
   "source": [
    "### Calculate the accuracy of this model"
   ]
  },
  {
   "cell_type": "code",
   "execution_count": 43,
   "metadata": {},
   "outputs": [
    {
     "name": "stdout",
     "output_type": "stream",
     "text": [
      "0.779984721161\n"
     ]
    }
   ],
   "source": [
    "print(accuracy_score(titanic_target, model_1_women_survive))"
   ]
  },
  {
   "cell_type": "markdown",
   "metadata": {},
   "source": [
    "### Generate a model using masking - women and children survived"
   ]
  },
  {
   "cell_type": "code",
   "execution_count": 44,
   "metadata": {
    "collapsed": true
   },
   "outputs": [],
   "source": [
    "children = titanic_feature['age'] < 10\n",
    "model_2_women_and_children = women | children"
   ]
  },
  {
   "cell_type": "markdown",
   "metadata": {},
   "source": [
    "### Calculate the accuracy of this model"
   ]
  },
  {
   "cell_type": "code",
   "execution_count": 45,
   "metadata": {
    "scrolled": true
   },
   "outputs": [
    {
     "name": "stdout",
     "output_type": "stream",
     "text": [
      "0.785332314744\n"
     ]
    }
   ],
   "source": [
    "print(accuracy_score(titanic_target, model_2_women_and_children))"
   ]
  },
  {
   "cell_type": "markdown",
   "metadata": {},
   "source": [
    "## 6. Transform the Columns by Label Encoding and One Hot Encoding "
   ]
  },
  {
   "cell_type": "markdown",
   "metadata": {},
   "source": [
    "1. Create a new `LabelEncoder`. \n",
    "1. Use it to label encode the `sex` column.\n",
    "1. Save the label encoded vector back to the `titanic_df`."
   ]
  },
  {
   "cell_type": "code",
   "execution_count": 46,
   "metadata": {},
   "outputs": [
    {
     "name": "stdout",
     "output_type": "stream",
     "text": [
      "<class 'pandas.core.frame.DataFrame'>\n",
      "Index: 1309 entries, Allen, Miss. Elisabeth Walton to Zimmerman, Mr. Leo\n",
      "Data columns (total 8 columns):\n",
      "pclass      1309 non-null int64\n",
      "survived    1309 non-null int64\n",
      "sex         1309 non-null int64\n",
      "age         1309 non-null float64\n",
      "sibsp       1309 non-null int64\n",
      "parch       1309 non-null int64\n",
      "fare        1309 non-null float64\n",
      "embarked    1309 non-null object\n",
      "dtypes: float64(2), int64(5), object(1)\n",
      "memory usage: 132.0+ KB\n"
     ]
    }
   ],
   "source": [
    "le = LabelEncoder()\n",
    "gen = titanic_df['sex']\n",
    "le.fit(gen)\n",
    "gen_le = le.transform(gen)\n",
    "titanic_df['sex'] = gen_le\n",
    "titanic_df.info()"
   ]
  },
  {
   "cell_type": "markdown",
   "metadata": {},
   "source": [
    "1. Create a new `LabelEncoder`. \n",
    "1. Use it to label encode the `embarked` column.\n",
    "1. Save the label encoded vector back to the `titanic_df`."
   ]
  },
  {
   "cell_type": "code",
   "execution_count": 47,
   "metadata": {},
   "outputs": [
    {
     "name": "stdout",
     "output_type": "stream",
     "text": [
      "<class 'pandas.core.frame.DataFrame'>\n",
      "Index: 1309 entries, Allen, Miss. Elisabeth Walton to Zimmerman, Mr. Leo\n",
      "Data columns (total 8 columns):\n",
      "pclass      1309 non-null int64\n",
      "survived    1309 non-null int64\n",
      "sex         1309 non-null int64\n",
      "age         1309 non-null float64\n",
      "sibsp       1309 non-null int64\n",
      "parch       1309 non-null int64\n",
      "fare        1309 non-null float64\n",
      "embarked    1309 non-null int64\n",
      "dtypes: float64(2), int64(6)\n",
      "memory usage: 132.0+ KB\n"
     ]
    },
    {
     "data": {
      "text/plain": [
       "(None,)"
      ]
     },
     "execution_count": 47,
     "metadata": {},
     "output_type": "execute_result"
    }
   ],
   "source": [
    "le2 = LabelEncoder()\n",
    "emb = titanic_df['embarked']\n",
    "le2.fit(emb)\n",
    "emb_le = le2.transform(emb)\n",
    "titanic_df['embarked'] = emb_le\n",
    "titanic_df.info(), "
   ]
  },
  {
   "cell_type": "markdown",
   "metadata": {},
   "source": [
    "1. Create a new `OneHotEncoder`. \n",
    "1. Use it to one hot encode the `embarked` column.\n",
    "1. Save the one hot encoded dataframe as `embarked_df`.\n",
    "1. Name the columns of `embarked_df` appropriately.\n",
    "1. Assign `titanic_df.index` to the `embarked_df`.\n"
   ]
  },
  {
   "cell_type": "code",
   "execution_count": 48,
   "metadata": {},
   "outputs": [
    {
     "name": "stdout",
     "output_type": "stream",
     "text": [
      "<class 'pandas.core.frame.DataFrame'>\n",
      "Index: 1309 entries, Allen, Miss. Elisabeth Walton to Zimmerman, Mr. Leo\n",
      "Data columns (total 3 columns):\n",
      "embarked_C    1309 non-null float64\n",
      "embarked_Q    1309 non-null float64\n",
      "embarked_S    1309 non-null float64\n",
      "dtypes: float64(3)\n",
      "memory usage: 80.9+ KB\n"
     ]
    }
   ],
   "source": [
    "one_hot = OneHotEncoder(sparse=False)\n",
    "one_hot.fit(emb_le.reshape(-1,1))\n",
    "one_hot_emb = one_hot.transform(emb_le.reshape(-1,1))\n",
    "emb_classes = le2.classes_\n",
    "emb_col_names = ['embarked_'+str(c) for c in emb_classes]\n",
    "embarked_df = pd.DataFrame(one_hot_emb, columns=emb_col_names, index=titanic_df.index)\n",
    "embarked_df.info()"
   ]
  },
  {
   "cell_type": "markdown",
   "metadata": {},
   "source": [
    "### Create a new dataframe called `titanic_numerical_df` by merging `titanic_df` and `embarked_df`."
   ]
  },
  {
   "cell_type": "markdown",
   "metadata": {},
   "source": [
    "1. Use `pd.merge` with the following pattern (used when the two DataFrames have indentical `index` columns).\n",
    "\n",
    "    pd.merge(df_1, df_1, left_index=True, right_index=True)\n",
    "1. Drop the label encoded `embarked` column from `titanic_numerical_df`"
   ]
  },
  {
   "cell_type": "code",
   "execution_count": 49,
   "metadata": {},
   "outputs": [
    {
     "name": "stdout",
     "output_type": "stream",
     "text": [
      "<class 'pandas.core.frame.DataFrame'>\n",
      "Index: 1313 entries, Abbing, Mr. Anthony to van Melkebeke, Mr. Philemon\n",
      "Data columns (total 10 columns):\n",
      "pclass        1313 non-null int64\n",
      "survived      1313 non-null int64\n",
      "sex           1313 non-null int64\n",
      "age           1313 non-null float64\n",
      "sibsp         1313 non-null int64\n",
      "parch         1313 non-null int64\n",
      "fare          1313 non-null float64\n",
      "embarked_C    1313 non-null float64\n",
      "embarked_Q    1313 non-null float64\n",
      "embarked_S    1313 non-null float64\n",
      "dtypes: float64(5), int64(5)\n",
      "memory usage: 112.8+ KB\n"
     ]
    }
   ],
   "source": [
    "titanic_numerical_df = titanic_df.merge(embarked_df,left_index=True, right_index=True)\n",
    "titanic_numerical_df.drop(['embarked'],axis=1, inplace=True)\n",
    "titanic_numerical_df.info()"
   ]
  },
  {
   "cell_type": "markdown",
   "metadata": {},
   "source": [
    "### Assign the `survived` column to the vector `y` and drop it from `titanic_numerical_df`"
   ]
  },
  {
   "cell_type": "code",
   "execution_count": 50,
   "metadata": {},
   "outputs": [
    {
     "name": "stdout",
     "output_type": "stream",
     "text": [
      "<class 'pandas.core.frame.DataFrame'>\n",
      "Index: 1313 entries, Abbing, Mr. Anthony to van Melkebeke, Mr. Philemon\n",
      "Data columns (total 9 columns):\n",
      "pclass        1313 non-null int64\n",
      "sex           1313 non-null int64\n",
      "age           1313 non-null float64\n",
      "sibsp         1313 non-null int64\n",
      "parch         1313 non-null int64\n",
      "fare          1313 non-null float64\n",
      "embarked_C    1313 non-null float64\n",
      "embarked_Q    1313 non-null float64\n",
      "embarked_S    1313 non-null float64\n",
      "dtypes: float64(5), int64(4)\n",
      "memory usage: 102.6+ KB\n"
     ]
    }
   ],
   "source": [
    "y = titanic_numerical_df['survived']\n",
    "titanic_numerical_df.drop(['survived'],axis=1, inplace=True)\n",
    "titanic_numerical_df.info()"
   ]
  },
  {
   "cell_type": "markdown",
   "metadata": {},
   "source": [
    "### Display the `head` of your numerical dataframe"
   ]
  },
  {
   "cell_type": "code",
   "execution_count": 51,
   "metadata": {},
   "outputs": [
    {
     "data": {
      "text/html": [
       "<div>\n",
       "<style>\n",
       "    .dataframe thead tr:only-child th {\n",
       "        text-align: right;\n",
       "    }\n",
       "\n",
       "    .dataframe thead th {\n",
       "        text-align: left;\n",
       "    }\n",
       "\n",
       "    .dataframe tbody tr th {\n",
       "        vertical-align: top;\n",
       "    }\n",
       "</style>\n",
       "<table border=\"1\" class=\"dataframe\">\n",
       "  <thead>\n",
       "    <tr style=\"text-align: right;\">\n",
       "      <th></th>\n",
       "      <th>pclass</th>\n",
       "      <th>sex</th>\n",
       "      <th>age</th>\n",
       "      <th>sibsp</th>\n",
       "      <th>parch</th>\n",
       "      <th>fare</th>\n",
       "      <th>embarked_C</th>\n",
       "      <th>embarked_Q</th>\n",
       "      <th>embarked_S</th>\n",
       "    </tr>\n",
       "    <tr>\n",
       "      <th>name</th>\n",
       "      <th></th>\n",
       "      <th></th>\n",
       "      <th></th>\n",
       "      <th></th>\n",
       "      <th></th>\n",
       "      <th></th>\n",
       "      <th></th>\n",
       "      <th></th>\n",
       "      <th></th>\n",
       "    </tr>\n",
       "  </thead>\n",
       "  <tbody>\n",
       "    <tr>\n",
       "      <th>Abbing, Mr. Anthony</th>\n",
       "      <td>3</td>\n",
       "      <td>1</td>\n",
       "      <td>42.0</td>\n",
       "      <td>0</td>\n",
       "      <td>0</td>\n",
       "      <td>7.55</td>\n",
       "      <td>0.0</td>\n",
       "      <td>0.0</td>\n",
       "      <td>1.0</td>\n",
       "    </tr>\n",
       "    <tr>\n",
       "      <th>Abbott, Master. Eugene Joseph</th>\n",
       "      <td>3</td>\n",
       "      <td>1</td>\n",
       "      <td>13.0</td>\n",
       "      <td>0</td>\n",
       "      <td>2</td>\n",
       "      <td>20.25</td>\n",
       "      <td>0.0</td>\n",
       "      <td>0.0</td>\n",
       "      <td>1.0</td>\n",
       "    </tr>\n",
       "    <tr>\n",
       "      <th>Abbott, Mr. Rossmore Edward</th>\n",
       "      <td>3</td>\n",
       "      <td>1</td>\n",
       "      <td>16.0</td>\n",
       "      <td>1</td>\n",
       "      <td>1</td>\n",
       "      <td>20.25</td>\n",
       "      <td>0.0</td>\n",
       "      <td>0.0</td>\n",
       "      <td>1.0</td>\n",
       "    </tr>\n",
       "    <tr>\n",
       "      <th>Abbott, Mrs. Stanton (Rosa Hunt)</th>\n",
       "      <td>3</td>\n",
       "      <td>0</td>\n",
       "      <td>35.0</td>\n",
       "      <td>1</td>\n",
       "      <td>1</td>\n",
       "      <td>20.25</td>\n",
       "      <td>0.0</td>\n",
       "      <td>0.0</td>\n",
       "      <td>1.0</td>\n",
       "    </tr>\n",
       "    <tr>\n",
       "      <th>Abelseth, Miss. Karen Marie</th>\n",
       "      <td>3</td>\n",
       "      <td>0</td>\n",
       "      <td>16.0</td>\n",
       "      <td>0</td>\n",
       "      <td>0</td>\n",
       "      <td>7.65</td>\n",
       "      <td>0.0</td>\n",
       "      <td>0.0</td>\n",
       "      <td>1.0</td>\n",
       "    </tr>\n",
       "  </tbody>\n",
       "</table>\n",
       "</div>"
      ],
      "text/plain": [
       "                                  pclass  sex   age  sibsp  parch   fare  \\\n",
       "name                                                                       \n",
       "Abbing, Mr. Anthony                    3    1  42.0      0      0   7.55   \n",
       "Abbott, Master. Eugene Joseph          3    1  13.0      0      2  20.25   \n",
       "Abbott, Mr. Rossmore Edward            3    1  16.0      1      1  20.25   \n",
       "Abbott, Mrs. Stanton (Rosa Hunt)       3    0  35.0      1      1  20.25   \n",
       "Abelseth, Miss. Karen Marie            3    0  16.0      0      0   7.65   \n",
       "\n",
       "                                  embarked_C  embarked_Q  embarked_S  \n",
       "name                                                                  \n",
       "Abbing, Mr. Anthony                      0.0         0.0         1.0  \n",
       "Abbott, Master. Eugene Joseph            0.0         0.0         1.0  \n",
       "Abbott, Mr. Rossmore Edward              0.0         0.0         1.0  \n",
       "Abbott, Mrs. Stanton (Rosa Hunt)         0.0         0.0         1.0  \n",
       "Abelseth, Miss. Karen Marie              0.0         0.0         1.0  "
      ]
     },
     "execution_count": 51,
     "metadata": {},
     "output_type": "execute_result"
    }
   ],
   "source": [
    "titanic_numerical_df.head()"
   ]
  },
  {
   "cell_type": "markdown",
   "metadata": {},
   "source": [
    "# 7. (Optional) Clustering via a covariance matrix"
   ]
  },
  {
   "cell_type": "markdown",
   "metadata": {},
   "source": [
    "### Scale Transform the `titanic_numerical_df`"
   ]
  },
  {
   "cell_type": "code",
   "execution_count": 52,
   "metadata": {},
   "outputs": [
    {
     "data": {
      "text/html": [
       "<div>\n",
       "<style>\n",
       "    .dataframe thead tr:only-child th {\n",
       "        text-align: right;\n",
       "    }\n",
       "\n",
       "    .dataframe thead th {\n",
       "        text-align: left;\n",
       "    }\n",
       "\n",
       "    .dataframe tbody tr th {\n",
       "        vertical-align: top;\n",
       "    }\n",
       "</style>\n",
       "<table border=\"1\" class=\"dataframe\">\n",
       "  <thead>\n",
       "    <tr style=\"text-align: right;\">\n",
       "      <th></th>\n",
       "      <th>pclass</th>\n",
       "      <th>sex</th>\n",
       "      <th>age</th>\n",
       "      <th>sibsp</th>\n",
       "      <th>parch</th>\n",
       "      <th>fare</th>\n",
       "      <th>embarked_C</th>\n",
       "      <th>embarked_Q</th>\n",
       "      <th>embarked_S</th>\n",
       "    </tr>\n",
       "  </thead>\n",
       "  <tbody>\n",
       "    <tr>\n",
       "      <th>0</th>\n",
       "      <td>0.8397</td>\n",
       "      <td>0.7442</td>\n",
       "      <td>0.9688</td>\n",
       "      <td>-0.4782</td>\n",
       "      <td>-0.4442</td>\n",
       "      <td>-0.4969</td>\n",
       "      <td>-0.5088</td>\n",
       "      <td>-0.3258</td>\n",
       "      <td>0.6571</td>\n",
       "    </tr>\n",
       "    <tr>\n",
       "      <th>1</th>\n",
       "      <td>0.8397</td>\n",
       "      <td>0.7442</td>\n",
       "      <td>-1.2811</td>\n",
       "      <td>-0.4782</td>\n",
       "      <td>1.8702</td>\n",
       "      <td>-0.2510</td>\n",
       "      <td>-0.5088</td>\n",
       "      <td>-0.3258</td>\n",
       "      <td>0.6571</td>\n",
       "    </tr>\n",
       "    <tr>\n",
       "      <th>2</th>\n",
       "      <td>0.8397</td>\n",
       "      <td>0.7442</td>\n",
       "      <td>-1.0484</td>\n",
       "      <td>0.4833</td>\n",
       "      <td>0.7130</td>\n",
       "      <td>-0.2510</td>\n",
       "      <td>-0.5088</td>\n",
       "      <td>-0.3258</td>\n",
       "      <td>0.6571</td>\n",
       "    </tr>\n",
       "    <tr>\n",
       "      <th>3</th>\n",
       "      <td>0.8397</td>\n",
       "      <td>-1.3437</td>\n",
       "      <td>0.4257</td>\n",
       "      <td>0.4833</td>\n",
       "      <td>0.7130</td>\n",
       "      <td>-0.2510</td>\n",
       "      <td>-0.5088</td>\n",
       "      <td>-0.3258</td>\n",
       "      <td>0.6571</td>\n",
       "    </tr>\n",
       "    <tr>\n",
       "      <th>4</th>\n",
       "      <td>0.8397</td>\n",
       "      <td>-1.3437</td>\n",
       "      <td>-1.0484</td>\n",
       "      <td>-0.4782</td>\n",
       "      <td>-0.4442</td>\n",
       "      <td>-0.4949</td>\n",
       "      <td>-0.5088</td>\n",
       "      <td>-0.3258</td>\n",
       "      <td>0.6571</td>\n",
       "    </tr>\n",
       "  </tbody>\n",
       "</table>\n",
       "</div>"
      ],
      "text/plain": [
       "   pclass     sex     age   sibsp   parch    fare  embarked_C  embarked_Q  \\\n",
       "0  0.8397  0.7442  0.9688 -0.4782 -0.4442 -0.4969     -0.5088     -0.3258   \n",
       "1  0.8397  0.7442 -1.2811 -0.4782  1.8702 -0.2510     -0.5088     -0.3258   \n",
       "2  0.8397  0.7442 -1.0484  0.4833  0.7130 -0.2510     -0.5088     -0.3258   \n",
       "3  0.8397 -1.3437  0.4257  0.4833  0.7130 -0.2510     -0.5088     -0.3258   \n",
       "4  0.8397 -1.3437 -1.0484 -0.4782 -0.4442 -0.4949     -0.5088     -0.3258   \n",
       "\n",
       "   embarked_S  \n",
       "0      0.6571  \n",
       "1      0.6571  \n",
       "2      0.6571  \n",
       "3      0.6571  \n",
       "4      0.6571  "
      ]
     },
     "execution_count": 52,
     "metadata": {},
     "output_type": "execute_result"
    }
   ],
   "source": [
    "scaler = StandardScaler()\n",
    "scaler.fit(titanic_numerical_df)\n",
    "scaled_titanic_numerical_df = pd.DataFrame(scaler.transform(titanic_numerical_df), columns=titanic_numerical_df.columns)\n",
    "scaled_titanic_numerical_df.head()"
   ]
  },
  {
   "cell_type": "markdown",
   "metadata": {},
   "source": [
    "### Attach a column of `ones` to the scaled `titanic_numerical_df`"
   ]
  },
  {
   "cell_type": "code",
   "execution_count": 53,
   "metadata": {},
   "outputs": [
    {
     "data": {
      "text/html": [
       "<div>\n",
       "<style>\n",
       "    .dataframe thead tr:only-child th {\n",
       "        text-align: right;\n",
       "    }\n",
       "\n",
       "    .dataframe thead th {\n",
       "        text-align: left;\n",
       "    }\n",
       "\n",
       "    .dataframe tbody tr th {\n",
       "        vertical-align: top;\n",
       "    }\n",
       "</style>\n",
       "<table border=\"1\" class=\"dataframe\">\n",
       "  <thead>\n",
       "    <tr style=\"text-align: right;\">\n",
       "      <th></th>\n",
       "      <th>pclass</th>\n",
       "      <th>sex</th>\n",
       "      <th>age</th>\n",
       "      <th>sibsp</th>\n",
       "      <th>parch</th>\n",
       "      <th>fare</th>\n",
       "      <th>embarked_C</th>\n",
       "      <th>embarked_Q</th>\n",
       "      <th>embarked_S</th>\n",
       "      <th>ones_col</th>\n",
       "    </tr>\n",
       "  </thead>\n",
       "  <tbody>\n",
       "    <tr>\n",
       "      <th>0</th>\n",
       "      <td>0.8397</td>\n",
       "      <td>0.7442</td>\n",
       "      <td>0.9688</td>\n",
       "      <td>-0.4782</td>\n",
       "      <td>-0.4442</td>\n",
       "      <td>-0.4969</td>\n",
       "      <td>-0.5088</td>\n",
       "      <td>-0.3258</td>\n",
       "      <td>0.6571</td>\n",
       "      <td>1.0</td>\n",
       "    </tr>\n",
       "    <tr>\n",
       "      <th>1</th>\n",
       "      <td>0.8397</td>\n",
       "      <td>0.7442</td>\n",
       "      <td>-1.2811</td>\n",
       "      <td>-0.4782</td>\n",
       "      <td>1.8702</td>\n",
       "      <td>-0.2510</td>\n",
       "      <td>-0.5088</td>\n",
       "      <td>-0.3258</td>\n",
       "      <td>0.6571</td>\n",
       "      <td>1.0</td>\n",
       "    </tr>\n",
       "    <tr>\n",
       "      <th>2</th>\n",
       "      <td>0.8397</td>\n",
       "      <td>0.7442</td>\n",
       "      <td>-1.0484</td>\n",
       "      <td>0.4833</td>\n",
       "      <td>0.7130</td>\n",
       "      <td>-0.2510</td>\n",
       "      <td>-0.5088</td>\n",
       "      <td>-0.3258</td>\n",
       "      <td>0.6571</td>\n",
       "      <td>1.0</td>\n",
       "    </tr>\n",
       "    <tr>\n",
       "      <th>3</th>\n",
       "      <td>0.8397</td>\n",
       "      <td>-1.3437</td>\n",
       "      <td>0.4257</td>\n",
       "      <td>0.4833</td>\n",
       "      <td>0.7130</td>\n",
       "      <td>-0.2510</td>\n",
       "      <td>-0.5088</td>\n",
       "      <td>-0.3258</td>\n",
       "      <td>0.6571</td>\n",
       "      <td>1.0</td>\n",
       "    </tr>\n",
       "    <tr>\n",
       "      <th>4</th>\n",
       "      <td>0.8397</td>\n",
       "      <td>-1.3437</td>\n",
       "      <td>-1.0484</td>\n",
       "      <td>-0.4782</td>\n",
       "      <td>-0.4442</td>\n",
       "      <td>-0.4949</td>\n",
       "      <td>-0.5088</td>\n",
       "      <td>-0.3258</td>\n",
       "      <td>0.6571</td>\n",
       "      <td>1.0</td>\n",
       "    </tr>\n",
       "  </tbody>\n",
       "</table>\n",
       "</div>"
      ],
      "text/plain": [
       "   pclass     sex     age   sibsp   parch    fare  embarked_C  embarked_Q  \\\n",
       "0  0.8397  0.7442  0.9688 -0.4782 -0.4442 -0.4969     -0.5088     -0.3258   \n",
       "1  0.8397  0.7442 -1.2811 -0.4782  1.8702 -0.2510     -0.5088     -0.3258   \n",
       "2  0.8397  0.7442 -1.0484  0.4833  0.7130 -0.2510     -0.5088     -0.3258   \n",
       "3  0.8397 -1.3437  0.4257  0.4833  0.7130 -0.2510     -0.5088     -0.3258   \n",
       "4  0.8397 -1.3437 -1.0484 -0.4782 -0.4442 -0.4949     -0.5088     -0.3258   \n",
       "\n",
       "   embarked_S  ones_col  \n",
       "0      0.6571       1.0  \n",
       "1      0.6571       1.0  \n",
       "2      0.6571       1.0  \n",
       "3      0.6571       1.0  \n",
       "4      0.6571       1.0  "
      ]
     },
     "execution_count": 53,
     "metadata": {},
     "output_type": "execute_result"
    }
   ],
   "source": [
    "one = np.ones_like(scaled_titanic_numerical_df['sex'])\n",
    "scaled_titanic_numerical_df['ones_col'] = one\n",
    "scaled_titanic_numerical_df.head()"
   ]
  },
  {
   "cell_type": "markdown",
   "metadata": {},
   "source": [
    "### Build the Covariance Matrix\n",
    "\n",
    "$$ \\text{cov} = A^TA$$"
   ]
  },
  {
   "cell_type": "code",
   "execution_count": 54,
   "metadata": {
    "scrolled": true
   },
   "outputs": [
    {
     "data": {
      "text/html": [
       "<div>\n",
       "<style>\n",
       "    .dataframe thead tr:only-child th {\n",
       "        text-align: right;\n",
       "    }\n",
       "\n",
       "    .dataframe thead th {\n",
       "        text-align: left;\n",
       "    }\n",
       "\n",
       "    .dataframe tbody tr th {\n",
       "        vertical-align: top;\n",
       "    }\n",
       "</style>\n",
       "<table border=\"1\" class=\"dataframe\">\n",
       "  <thead>\n",
       "    <tr style=\"text-align: right;\">\n",
       "      <th></th>\n",
       "      <th>pclass</th>\n",
       "      <th>sex</th>\n",
       "      <th>age</th>\n",
       "      <th>sibsp</th>\n",
       "      <th>parch</th>\n",
       "      <th>fare</th>\n",
       "      <th>embarked_C</th>\n",
       "      <th>embarked_Q</th>\n",
       "      <th>embarked_S</th>\n",
       "      <th>ones_col</th>\n",
       "    </tr>\n",
       "  </thead>\n",
       "  <tbody>\n",
       "    <tr>\n",
       "      <th>pclass</th>\n",
       "      <td>1313.0000</td>\n",
       "      <td>162.1414</td>\n",
       "      <td>-494.5131</td>\n",
       "      <td>78.1473</td>\n",
       "      <td>22.5273</td>\n",
       "      <td>-733.8764</td>\n",
       "      <td>-355.2541</td>\n",
       "      <td>306.4990</td>\n",
       "      <td>116.1448</td>\n",
       "      <td>5.1026e-13</td>\n",
       "    </tr>\n",
       "    <tr>\n",
       "      <th>sex</th>\n",
       "      <td>162.1414</td>\n",
       "      <td>1313.0000</td>\n",
       "      <td>72.1429</td>\n",
       "      <td>-143.0325</td>\n",
       "      <td>-278.7119</td>\n",
       "      <td>-242.4107</td>\n",
       "      <td>-86.5944</td>\n",
       "      <td>-121.1398</td>\n",
       "      <td>154.0010</td>\n",
       "      <td>-9.2371e-14</td>\n",
       "    </tr>\n",
       "    <tr>\n",
       "      <th>age</th>\n",
       "      <td>-494.5131</td>\n",
       "      <td>72.1429</td>\n",
       "      <td>1313.0000</td>\n",
       "      <td>-249.6428</td>\n",
       "      <td>-165.5123</td>\n",
       "      <td>234.1279</td>\n",
       "      <td>97.8980</td>\n",
       "      <td>-38.7469</td>\n",
       "      <td>-61.3450</td>\n",
       "      <td>-1.2790e-13</td>\n",
       "    </tr>\n",
       "    <tr>\n",
       "      <th>sibsp</th>\n",
       "      <td>78.1473</td>\n",
       "      <td>-143.0325</td>\n",
       "      <td>-249.6428</td>\n",
       "      <td>1313.0000</td>\n",
       "      <td>491.0530</td>\n",
       "      <td>211.1666</td>\n",
       "      <td>-62.5204</td>\n",
       "      <td>-67.4563</td>\n",
       "      <td>98.3485</td>\n",
       "      <td>1.0658e-13</td>\n",
       "    </tr>\n",
       "    <tr>\n",
       "      <th>parch</th>\n",
       "      <td>22.5273</td>\n",
       "      <td>-278.7119</td>\n",
       "      <td>-165.5123</td>\n",
       "      <td>491.0530</td>\n",
       "      <td>1313.0000</td>\n",
       "      <td>291.5395</td>\n",
       "      <td>-10.4233</td>\n",
       "      <td>-135.0137</td>\n",
       "      <td>95.8266</td>\n",
       "      <td>4.3521e-13</td>\n",
       "    </tr>\n",
       "  </tbody>\n",
       "</table>\n",
       "</div>"
      ],
      "text/plain": [
       "           pclass        sex        age      sibsp      parch      fare  \\\n",
       "pclass  1313.0000   162.1414  -494.5131    78.1473    22.5273 -733.8764   \n",
       "sex      162.1414  1313.0000    72.1429  -143.0325  -278.7119 -242.4107   \n",
       "age     -494.5131    72.1429  1313.0000  -249.6428  -165.5123  234.1279   \n",
       "sibsp     78.1473  -143.0325  -249.6428  1313.0000   491.0530  211.1666   \n",
       "parch     22.5273  -278.7119  -165.5123   491.0530  1313.0000  291.5395   \n",
       "\n",
       "        embarked_C  embarked_Q  embarked_S    ones_col  \n",
       "pclass   -355.2541    306.4990    116.1448  5.1026e-13  \n",
       "sex       -86.5944   -121.1398    154.0010 -9.2371e-14  \n",
       "age        97.8980    -38.7469    -61.3450 -1.2790e-13  \n",
       "sibsp     -62.5204    -67.4563     98.3485  1.0658e-13  \n",
       "parch     -10.4233   -135.0137     95.8266  4.3521e-13  "
      ]
     },
     "execution_count": 54,
     "metadata": {},
     "output_type": "execute_result"
    }
   ],
   "source": [
    "cov = scaled_titanic_numerical_df.T.dot(scaled_titanic_numerical_df)\n",
    "cov.head()"
   ]
  },
  {
   "cell_type": "markdown",
   "metadata": {},
   "source": [
    "### Cluster using the Covariance Matrix"
   ]
  },
  {
   "cell_type": "markdown",
   "metadata": {},
   "source": [
    "1. Generate a $\\beta$ (weights) vector\n",
    "\n",
    "   \\begin{align}\n",
    "   A\\vec{\\beta} &= \\vec{y}\\\\\n",
    "   A^TA\\vec{\\beta} &= A^T\\vec{y}\\\\\n",
    "   \\vec{\\beta} &= (A^TA)^{-1}A^T\\vec{y}\\\\\n",
    "   \\end{align}\n",
    "   \n",
    "   Remember: \n",
    "   \n",
    "      - you use `.T` to take the transpose\n",
    "      - you use `np.linalg.inv` to take the inverse\n",
    "      - you use `np.dot()` to multiply\n",
    "   \n",
    "1. Generate a vector of predictions\n",
    "\n",
    "   $$\\hat{y} = A\\vec{\\beta}$$\n",
    "   \n",
    "1. Plot a scatter plot of your predictions\n",
    "   - use `plt.scatter`\n",
    "   - use `range(len(predictions))` for your x-axis\n",
    "   - color the scatter plot using `y` e.g. `c=y`"
   ]
  },
  {
   "cell_type": "code",
   "execution_count": 55,
   "metadata": {},
   "outputs": [
    {
     "data": {
      "text/plain": [
       "array([-0.1331498 , -0.23560974, -0.07186265, -0.04297265, -0.00182704])"
      ]
     },
     "execution_count": 55,
     "metadata": {},
     "output_type": "execute_result"
    }
   ],
   "source": [
    "beta = np.linalg.inv(cov).dot(scaled_titanic_numerical_df.T).dot(y)\n",
    "beta[0:5]"
   ]
  },
  {
   "cell_type": "code",
   "execution_count": 56,
   "metadata": {},
   "outputs": [
    {
     "data": {
      "text/plain": [
       "0    0.0138\n",
       "1    0.1741\n",
       "2    0.1182\n",
       "3    0.5042\n",
       "4    0.6507\n",
       "dtype: float64"
      ]
     },
     "execution_count": 56,
     "metadata": {},
     "output_type": "execute_result"
    }
   ],
   "source": [
    "y_hat = scaled_titanic_numerical_df.dot(beta)\n",
    "y_hat[0:5]"
   ]
  },
  {
   "cell_type": "code",
   "execution_count": 57,
   "metadata": {
    "scrolled": false
   },
   "outputs": [
    {
     "data": {
      "text/plain": [
       "<matplotlib.colorbar.Colorbar at 0x1eff429cf98>"
      ]
     },
     "execution_count": 57,
     "metadata": {},
     "output_type": "execute_result"
    },
    {
     "data": {
      "image/png": "[encoded data removed]",
      "text/plain": [
       "<matplotlib.figure.Figure at 0x1eff351b550>"
      ]
     },
     "metadata": {},
     "output_type": "display_data"
    }
   ],
   "source": [
    "plt.scatter(range(len(y_hat)),y_hat,c=y)\n",
    "plt.colorbar()"
   ]
  },
  {
   "cell_type": "code",
   "execution_count": 58,
   "metadata": {},
   "outputs": [
    {
     "data": {
      "text/plain": [
       "<matplotlib.colorbar.Colorbar at 0x1eff43c8d30>"
      ]
     },
     "execution_count": 58,
     "metadata": {},
     "output_type": "execute_result"
    },
    {
     "data": {
      "image/png": "[encoded data removed]",
      "text/plain": [
       "<matplotlib.figure.Figure at 0x1eff4276908>"
      ]
     },
     "metadata": {},
     "output_type": "display_data"
    }
   ],
   "source": [
    "# Without adding a ones column\n",
    "scaler2 = StandardScaler()\n",
    "scaler2.fit(titanic_numerical_df)\n",
    "scaled_titanic_numerical_df_no_ones = pd.DataFrame(scaler.transform(titanic_numerical_df), columns=titanic_numerical_df.columns)\n",
    "cov2 = scaled_titanic_numerical_df_no_ones.T.dot(scaled_titanic_numerical_df_no_ones)\n",
    "beta2 = np.linalg.inv(cov2).dot(scaled_titanic_numerical_df_no_ones.T).dot(y)\n",
    "y_hat2 = scaled_titanic_numerical_df_no_ones.dot(beta2)\n",
    "plt.scatter(range(len(y_hat2)),y_hat2, \n",
    "            c=y)\n",
    "plt.colorbar()"
   ]
  },
  {
   "cell_type": "markdown",
   "metadata": {
    "collapsed": true
   },
   "source": [
    "### Discuss the cluster plot"
   ]
  },
  {
   "cell_type": "markdown",
   "metadata": {
    "collapsed": true
   },
   "source": [
    "**Ans.** The value of each point in the y-axis is the prediction of survival for that corresponding passenger based on covariance matrix of the data. The coloring of the each point indicates if the passenger actually survived (black, 1.0) or did not survive (white, 0.0)."
   ]
  }
 ],
 "metadata": {
  "kernelspec": {
   "display_name": "Python 3",
   "language": "python",
   "name": "python3"
  },
  "language_info": {
   "codemirror_mode": {
    "name": "ipython",
    "version": 3
   },
   "file_extension": ".py",
   "mimetype": "text/x-python",
   "name": "python",
   "nbconvert_exporter": "python",
   "pygments_lexer": "ipython3",
   "version": "3.6.0"
  }
 },
 "nbformat": 4,
 "nbformat_minor": 2
}
